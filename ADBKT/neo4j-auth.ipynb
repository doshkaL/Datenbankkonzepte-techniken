{
 "cells": [
  {
   "cell_type": "code",
   "execution_count": 1,
   "metadata": {},
   "outputs": [
    {
     "ename": "ImportError",
     "evalue": "cannot import name 'GraphDatabase' from 'neo4j' (c:\\Users\\Doushka\\Downloads\\neo4j.py)",
     "output_type": "error",
     "traceback": [
      "\u001b[1;31m---------------------------------------------------------------------------\u001b[0m",
      "\u001b[1;31mImportError\u001b[0m                               Traceback (most recent call last)",
      "\u001b[1;32mc:\\Users\\Doushka\\Downloads\\neo4j-auth.ipynb Cell 1\u001b[0m line \u001b[0;36m2\n\u001b[0;32m      <a href='vscode-notebook-cell:/c%3A/Users/Doushka/Downloads/neo4j-auth.ipynb#W0sZmlsZQ%3D%3D?line=0'>1</a>\u001b[0m \u001b[39mimport\u001b[39;00m \u001b[39mpandas\u001b[39;00m \u001b[39mas\u001b[39;00m \u001b[39mpd\u001b[39;00m\n\u001b[1;32m----> <a href='vscode-notebook-cell:/c%3A/Users/Doushka/Downloads/neo4j-auth.ipynb#W0sZmlsZQ%3D%3D?line=1'>2</a>\u001b[0m \u001b[39mfrom\u001b[39;00m \u001b[39mneo4j\u001b[39;00m \u001b[39mimport\u001b[39;00m GraphDatabase\n",
      "\u001b[1;31mImportError\u001b[0m: cannot import name 'GraphDatabase' from 'neo4j' (c:\\Users\\Doushka\\Downloads\\neo4j.py)"
     ]
    }
   ],
   "source": [
    "import pandas as pd\n",
    "from neo4j import GraphDatabase\n"
   ]
  },
  {
   "cell_type": "code",
   "execution_count": 2,
   "metadata": {},
   "outputs": [
    {
     "ename": "NameError",
     "evalue": "name 'GraphDatabase' is not defined",
     "output_type": "error",
     "traceback": [
      "\u001b[1;31m---------------------------------------------------------------------------\u001b[0m",
      "\u001b[1;31mNameError\u001b[0m                                 Traceback (most recent call last)",
      "\u001b[1;32mc:\\Users\\Doushka\\Downloads\\neo4j-auth.ipynb Cell 2\u001b[0m line \u001b[0;36m1\n\u001b[0;32m     <a href='vscode-notebook-cell:/c%3A/Users/Doushka/Downloads/neo4j-auth.ipynb#W1sZmlsZQ%3D%3D?line=12'>13</a>\u001b[0m         \u001b[39mprint\u001b[39m(\u001b[39mf\u001b[39m\u001b[39m\"\u001b[39m\u001b[39mAn error occurred: \u001b[39m\u001b[39m{\u001b[39;00me\u001b[39m}\u001b[39;00m\u001b[39m\"\u001b[39m)\n\u001b[0;32m     <a href='vscode-notebook-cell:/c%3A/Users/Doushka/Downloads/neo4j-auth.ipynb#W1sZmlsZQ%3D%3D?line=13'>14</a>\u001b[0m         \u001b[39mreturn\u001b[39;00m \u001b[39mFalse\u001b[39;00m\n\u001b[1;32m---> <a href='vscode-notebook-cell:/c%3A/Users/Doushka/Downloads/neo4j-auth.ipynb#W1sZmlsZQ%3D%3D?line=14'>15</a>\u001b[0m driver \u001b[39m=\u001b[39m GraphDatabase\u001b[39m.\u001b[39mdriver(\u001b[39m'\u001b[39m\u001b[39mneo4j://widb005l.f4.htw-berlin.de:7687\u001b[39m\u001b[39m'\u001b[39m, auth\u001b[39m=\u001b[39m(\u001b[39m'\u001b[39m\u001b[39mneo4j\u001b[39m\u001b[39m'\u001b[39m, \u001b[39m'\u001b[39m\u001b[39m<passwort festlegen>\u001b[39m\u001b[39m'\u001b[39m)) \n\u001b[0;32m     <a href='vscode-notebook-cell:/c%3A/Users/Doushka/Downloads/neo4j-auth.ipynb#W1sZmlsZQ%3D%3D?line=17'>18</a>\u001b[0m \u001b[39m# Test the connection\u001b[39;00m\n\u001b[0;32m     <a href='vscode-notebook-cell:/c%3A/Users/Doushka/Downloads/neo4j-auth.ipynb#W1sZmlsZQ%3D%3D?line=18'>19</a>\u001b[0m \u001b[39mif\u001b[39;00m test_connection(driver):\n",
      "\u001b[1;31mNameError\u001b[0m: name 'GraphDatabase' is not defined"
     ]
    }
   ],
   "source": [
    "def test_connection(driver):\n",
    "    try:\n",
    "        # Try to open a session\n",
    "        with driver.session() as session:\n",
    "            # Run a simple read query to get the server version\n",
    "            result = session.run(\"RETURN 'Connection Successful' AS message\")\n",
    "            for record in result:\n",
    "                # If the query succeeds, print the result\n",
    "                print(record['message'])\n",
    "            return True\n",
    "    except Exception as e:\n",
    "        # If an error occurs, print the error message\n",
    "        print(f\"An error occurred: {e}\")\n",
    "        return False\n",
    "driver = GraphDatabase.driver('neo4j://widb005l.f4.htw-berlin.de:7687', auth=('neo4j', '<passwort festlegen>')) \n",
    "\n",
    "\n",
    "# Test the connection\n",
    "if test_connection(driver):\n",
    "    print(\"The connection to the Neo4j database is successful.\")\n",
    "else:\n",
    "    print(\"Failed to connect to the Neo4j database.\")"
   ]
  },
  {
   "cell_type": "code",
   "execution_count": null,
   "metadata": {},
   "outputs": [],
   "source": [
    "def resetDb(driver):\n",
    "    # Query to delete all nodes and relationships\n",
    "    delete_query = \"MATCH (n) DETACH DELETE n\"\n",
    "    \n",
    "    # Query to create the desired nodes and relationships\n",
    "    create_query = \"\"\"\n",
    "    CREATE \n",
    "      (a1:Admin {name: 'a1'}),\n",
    "      (a2:Admin {name: 'a2'}),\n",
    "      (g1:Gruppe {name: 'g1'}),\n",
    "      (g2:Gruppe {name: 'g2'}),\n",
    "      (g3:Gruppe {name: 'g3'}),\n",
    "      (a1)-[:ING]->(g1),\n",
    "      (a1)-[:ING]->(g3),\n",
    "      (a2)-[:ING]->(g2),\n",
    "      (a2)-[:ING]->(g3),\n",
    "      (u1:Unternehmen {name: 'u1'}),\n",
    "      (u11:Unternehmen {name: 'u11'}),\n",
    "      (u111:Unternehmen {name: 'u111'}),\n",
    "      (u112:Unternehmen {name: 'u112'}),\n",
    "      (u1111:Unternehmen {name: 'u1111'}),\n",
    "      (u1112:Unternehmen {name: 'u1112'}),\n",
    "      (u12:Unternehmen {name: 'u12'}),\n",
    "      (u121:Unternehmen {name: 'u121'}),\n",
    "      (u122:Unternehmen {name: 'u122'}),\n",
    "      (u11)-[:SUB]->(u1),\n",
    "      (u12)-[:SUB]->(u1),\n",
    "      (u111)-[:SUB]->(u11),\n",
    "      (u1111)-[:SUB]->(u111),\n",
    "      (u1112)-[:SUB]->(u111),\n",
    "      (u112)-[:SUB]->(u11),\n",
    "      (u121)-[:SUB]->(u12),\n",
    "      (u122)-[:SUB]->(u12)\n",
    "    \"\"\"\n",
    "    \n",
    "    with driver.session() as session:\n",
    "        # Begin a transaction\n",
    "        transaction = session.begin_transaction()\n",
    "        try:\n",
    "            # Run the delete query within a transaction\n",
    "            transaction.run(delete_query)\n",
    "            # Run the create query within a transaction\n",
    "            transaction.run(create_query)\n",
    "            # Commit the transaction if both queries succeed\n",
    "            transaction.commit()\n",
    "            print(\"Database has been reset successfully.\")\n",
    "        except Exception as e:\n",
    "            # Rollback the transaction in case of an error\n",
    "            transaction.rollback()\n",
    "            print(f\"An error occurred while resetting the database: {e}\")\n",
    "        finally:\n",
    "            # Close the session\n",
    "            session.close()\n",
    "        \n",
    "def setAuth(gruppe, unternehmen, auth):\n",
    "    query = \"\"\"\n",
    "    MATCH (g:Gruppe {name: $gruppe}), (u:Unternehmen {name: $unternehmen})\n",
    "    MERGE (g)-[r:AUTH {type: $auth}]->(u)\n",
    "    RETURN g, r, u\n",
    "    \"\"\"\n",
    "    with driver.session() as session:\n",
    "        session.run(query, gruppe=gruppe, unternehmen=unternehmen, auth=auth)\n",
    "      \n",
    "      \n",
    "def unsetAuth(gruppe, unternehmen, auth):\n",
    "    query = \"\"\"\n",
    "    MATCH (g:Gruppe {name: $gruppe})-[r:AUTH {type: $auth}]->(u:Unternehmen {name: $unternehmen})\n",
    "    DELETE r\n",
    "    \"\"\"\n",
    "    with driver.session() as session:\n",
    "        session.run(query, gruppe=gruppe, unternehmen=unternehmen, auth=auth)\n",
    "          \n",
    "def showAuth():\n",
    "    query = \"\"\"\n",
    "    MATCH (a:Admin)-[:ING]->(g:Gruppe)-[r:AUTH]->(u:Unternehmen)\n",
    "    OPTIONAL MATCH (parent)-[sub_rel:SUB*0..]->(u) // Find all parents (including self)\n",
    "    OPTIONAL MATCH (u)-[sub_rel2:SUB*0..]->(child) // Find all children (including self)\n",
    "    WITH a.name AS Admin, r.type AS Auth, \n",
    "         collect(DISTINCT parent.name) AS Parents, \n",
    "         collect(DISTINCT child.name) AS Children\n",
    "    RETURN Admin, Auth, Parents, Children\n",
    "    ORDER BY Admin, Auth // Optional, to order the results by admin and then by auth type\n",
    "    \"\"\"\n",
    "    with driver.session() as session:\n",
    "        result = session.run(query)\n",
    "        # Convert the result to a Pandas DataFrame and print it\n",
    "        data = []\n",
    "        for record in result:\n",
    "            data.append({\n",
    "                \"Admin\": record[\"Admin\"],\n",
    "                \"Auth\": record[\"Auth\"],\n",
    "                \"Parents\": record[\"Parents\"],\n",
    "                \"Children\": record[\"Children\"]\n",
    "            })\n",
    "        df = pd.DataFrame(data)\n",
    "        print(df)\n",
    "       "
   ]
  },
  {
   "cell_type": "code",
   "execution_count": null,
   "metadata": {},
   "outputs": [],
   "source": [
    "resetDb()"
   ]
  },
  {
   "cell_type": "code",
   "execution_count": null,
   "metadata": {},
   "outputs": [],
   "source": [
    "# Beispiel 1\n",
    "setAuth(\"g3\", \"u1\", \"AI\")\n",
    "showAuth()"
   ]
  },
  {
   "cell_type": "code",
   "execution_count": null,
   "metadata": {},
   "outputs": [],
   "source": [
    "# Beispiel 2\n",
    "setAuth(\"g1\", \"u12\", \"DI\")\n",
    "setAuth(\"g2\", \"u11\", \"DI\")\n",
    "showAuth()"
   ]
  },
  {
   "cell_type": "code",
   "execution_count": null,
   "metadata": {},
   "outputs": [],
   "source": [
    "# Beispiel 3\n",
    "setAuth(\"g1\", \"u111\", \"DI\")\n",
    "showAuth()"
   ]
  },
  {
   "cell_type": "code",
   "execution_count": null,
   "metadata": {},
   "outputs": [],
   "source": [
    "# Beispiel 4\n",
    "setAuth(\"g1\", \"u1111\", \"A\")\n",
    "showAuth()"
   ]
  },
  {
   "cell_type": "code",
   "execution_count": null,
   "metadata": {},
   "outputs": [],
   "source": [
    "# Beispiel 5\n",
    "setAuth(\"g2\", \"u12\", \"D\")\n",
    "showAuth()"
   ]
  },
  {
   "cell_type": "code",
   "execution_count": null,
   "metadata": {},
   "outputs": [],
   "source": [
    "# Beispiel 6\n",
    "setAuth(\"g3\", \"u1\", \"D\")\n",
    "showAuth()"
   ]
  }
 ],
 "metadata": {
  "kernelspec": {
   "display_name": "base",
   "language": "python",
   "name": "python3"
  },
  "language_info": {
   "codemirror_mode": {
    "name": "ipython",
    "version": 3
   },
   "file_extension": ".py",
   "mimetype": "text/x-python",
   "name": "python",
   "nbconvert_exporter": "python",
   "pygments_lexer": "ipython3",
   "version": "3.10.2"
  },
  "orig_nbformat": 4
 },
 "nbformat": 4,
 "nbformat_minor": 2
}
